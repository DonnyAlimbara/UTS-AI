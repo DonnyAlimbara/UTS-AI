{
 "cells": [
  {
   "cell_type": "code",
   "execution_count": 10,
   "id": "bb3f2290-bfb6-4be3-a963-22f103001895",
   "metadata": {},
   "outputs": [],
   "source": [
    "# Nama : Muhamad Donny Alimbara\n",
    "# Nim : 221011402489\n",
    "# Kelas : 05TPLM008"
   ]
  },
  {
   "cell_type": "code",
   "execution_count": 11,
   "id": "7290804f-ce0c-4d94-b977-740ab8707889",
   "metadata": {},
   "outputs": [],
   "source": [
    "# Data\n",
    "\n",
    "company_detail_list = [\n",
    "      {\n",
    "          'name': 'Company 1',\n",
    "          'domain': 'Retail',\n",
    "          'country': 'United States'\n",
    "      },\n",
    "      {\n",
    "          'name': 'Company 2',\n",
    "          'domain': 'Technology',\n",
    "          'country': 'United Kingdom'\n",
    "      },\n",
    "      {\n",
    "          'name': 'Company 3',\n",
    "          'domain': 'Healthcare',\n",
    "          'country': 'United States'\n",
    "      }\n",
    "  ]\n",
    "\n",
    "employee_detail_list = [\n",
    "     {\n",
    "          'name': 'EMP-0001',\n",
    "          'first_name': 'John',\n",
    "          'last_name': 'Doe',\n",
    "          'full_name': 'John Doe',\n",
    "          'company': 'Company 1',\n",
    "          'nationality': 'Australia'\n",
    "      },\n",
    "      {\n",
    "          'name': 'EMP-0002',\n",
    "          'first_name': 'Tom',\n",
    "          'last_name': 'Smith',\n",
    "          'full_name': 'Tom Smith',\n",
    "          'company': 'Company 2',\n",
    "          'nationality': 'United States'\n",
    "      },\n",
    "      {\n",
    "          'name': 'EMP-0003',\n",
    "          'first_name': 'Andrew',\n",
    "          'last_name': 'Sebastian',\n",
    "          'full_name': 'Andrew Sebastian',\n",
    "          'company': 'Company 3',\n",
    "          'nationality': 'United States'\n",
    "      },\n",
    "      {\n",
    "          'name': 'EMP-0005',\n",
    "          'first_name': 'Ying Han',\n",
    "          'last_name': 'Tan',\n",
    "          'full_name': 'Ying Han Tan',\n",
    "          'company': 'Company 1',\n",
    "          'nationality': 'Australia'\n",
    "      },\n",
    "      {\n",
    "          'name': 'EMP-0015',\n",
    "          'first_name': 'Kenneth',\n",
    "          'last_name': 'Ng',\n",
    "          'full_name': 'Kenneth Ng',\n",
    "          'company': 'Company 3',\n",
    "          'nationality': 'United States'\n",
    "      },\n",
    "      {\n",
    "          'name': 'EMP-0018',\n",
    "          'first_name': 'Rubby',\n",
    "          'last_name': 'Lee',\n",
    "          'full_name': 'Rubby Lee',\n",
    "          'company': 'Company 2',\n",
    "          'nationality': 'Hong Kong'\n",
    "      },\n",
    "     {\n",
    "          'name': 'EMP-0017',\n",
    "          'first_name': 'Robert',\n",
    "          'last_name': 'White',\n",
    "          'full_name': 'Robert White',\n",
    "          'company': 'Company 1',\n",
    "          'nationality': 'United Kingdom'\n",
    "      }\n",
    "  ]"
   ]
  },
  {
   "cell_type": "code",
   "execution_count": 12,
   "id": "acaf1201-3945-40bc-a7c1-5fc4c7d5cda4",
   "metadata": {},
   "outputs": [
    {
     "data": {
      "text/plain": [
       "[{'name': 'Company 3'}, {'name': 'Company 2'}, {'name': 'Company 1'}]"
      ]
     },
     "execution_count": 12,
     "metadata": {},
     "output_type": "execute_result"
    }
   ],
   "source": [
    "#task1\n",
    "sorted_companies = sorted(company_detail_list, key=lambda x: x['name'], reverse=True)\n",
    "\n",
    "result_task_1 = [{'name': company['name']} for company in sorted_companies]\n",
    "result_task_1"
   ]
  },
  {
   "cell_type": "code",
   "execution_count": 13,
   "id": "ffbb5ea8-5941-4b2f-846d-c018dee114a4",
   "metadata": {},
   "outputs": [
    {
     "name": "stdout",
     "output_type": "stream",
     "text": [
      "Company 1: Retail (United States)\n",
      "Company 2: Technology (United Kingdom)\n",
      "Company 3: Healthcare (United States)\n"
     ]
    }
   ],
   "source": [
    "#task2\n",
    "for company in company_detail_list:\n",
    "    print(f\"{company['name']}: {company['domain']} ({company['country']})\")"
   ]
  },
  {
   "cell_type": "code",
   "execution_count": 14,
   "id": "8a3f39e8-8a30-4ca5-b0e4-1cdf573bb358",
   "metadata": {},
   "outputs": [
    {
     "data": {
      "text/plain": [
       "{'Retail': ['John Doe', 'Ying Han Tan', 'Robert White'],\n",
       " 'Technology': ['Tom Smith', 'Rubby Lee'],\n",
       " 'Healthcare': ['Andrew Sebastian', 'Kenneth Ng']}"
      ]
     },
     "execution_count": 14,
     "metadata": {},
     "output_type": "execute_result"
    }
   ],
   "source": [
    "#task3\n",
    "from collections import defaultdict\n",
    "\n",
    "employees_by_domain = defaultdict(list)\n",
    "company_domain_map = {company['name']: company['domain'] for company in company_detail_list}\n",
    "\n",
    "for employee in employee_detail_list:\n",
    "    domain = company_domain_map[employee['company']]\n",
    "    employees_by_domain[domain].append(employee['full_name'])\n",
    "\n",
    "result_task_3 = dict(employees_by_domain)\n",
    "result_task_3"
   ]
  },
  {
   "cell_type": "code",
   "execution_count": 15,
   "id": "cfcf67e4-3b5e-4d58-87c4-74bc45e0decc",
   "metadata": {},
   "outputs": [
    {
     "data": {
      "text/plain": [
       "[{'full_name': 'John Doe', 'company': 'Company 1', 'country': 'United States'},\n",
       " {'full_name': 'Tom Smith',\n",
       "  'company': 'Company 2',\n",
       "  'country': 'United Kingdom'},\n",
       " {'full_name': 'Andrew Sebastian',\n",
       "  'company': 'Company 3',\n",
       "  'country': 'United States'},\n",
       " {'full_name': 'Ying Han Tan',\n",
       "  'company': 'Company 1',\n",
       "  'country': 'United States'},\n",
       " {'full_name': 'Kenneth Ng',\n",
       "  'company': 'Company 3',\n",
       "  'country': 'United States'},\n",
       " {'full_name': 'Rubby Lee',\n",
       "  'company': 'Company 2',\n",
       "  'country': 'United Kingdom'},\n",
       " {'full_name': 'Robert White',\n",
       "  'company': 'Company 1',\n",
       "  'country': 'United States'}]"
      ]
     },
     "execution_count": 15,
     "metadata": {},
     "output_type": "execute_result"
    }
   ],
   "source": [
    "# task4\n",
    "def employees_with_company_country():\n",
    "    company_country_map = {company['name']: company['country'] for company in company_detail_list}\n",
    "    result = [\n",
    "        {\n",
    "            'full_name': employee['full_name'],\n",
    "            'company': employee['company'],\n",
    "            'country': company_country_map[employee['company']]\n",
    "        }\n",
    "        for employee in employee_detail_list\n",
    "    ]\n",
    "    return result\n",
    "\n",
    "result_task_4 = employees_with_company_country()\n",
    "result_task_4"
   ]
  },
  {
   "cell_type": "code",
   "execution_count": 16,
   "id": "3caf4f38-1ddd-4f00-9e69-4bf241ceb0d5",
   "metadata": {},
   "outputs": [
    {
     "data": {
      "text/plain": [
       "[{'company': 'Company 1',\n",
       "  'employee_nationality': {'Australia': 2, 'United Kingdom': 1}},\n",
       " {'company': 'Company 2',\n",
       "  'employee_nationality': {'United States': 1, 'Hong Kong': 1}},\n",
       " {'company': 'Company 3', 'employee_nationality': {'United States': 2}}]"
      ]
     },
     "execution_count": 16,
     "metadata": {},
     "output_type": "execute_result"
    }
   ],
   "source": [
    "# task5\n",
    "def company_employee_nationality_count():\n",
    "    nationality_count = defaultdict(lambda: defaultdict(int))\n",
    "    \n",
    "    for employee in employee_detail_list:\n",
    "        nationality_count[employee['company']][employee['nationality']] += 1\n",
    "    \n",
    "    # Format hasil\n",
    "    result = [\n",
    "        {\n",
    "            'company': company['name'],\n",
    "            'employee_nationality': dict(nationality_count[company['name']])\n",
    "        }\n",
    "        for company in company_detail_list\n",
    "    ]\n",
    "    return result\n",
    "\n",
    "result_task_5 = company_employee_nationality_count()\n",
    "result_task_5"
   ]
  }
 ],
 "metadata": {
  "kernelspec": {
   "display_name": "Python 3 (ipykernel)",
   "language": "python",
   "name": "python3"
  },
  "language_info": {
   "codemirror_mode": {
    "name": "ipython",
    "version": 3
   },
   "file_extension": ".py",
   "mimetype": "text/x-python",
   "name": "python",
   "nbconvert_exporter": "python",
   "pygments_lexer": "ipython3",
   "version": "3.11.5"
  }
 },
 "nbformat": 4,
 "nbformat_minor": 5
}
